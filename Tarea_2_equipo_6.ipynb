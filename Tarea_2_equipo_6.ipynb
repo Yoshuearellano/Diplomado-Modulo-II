{
  "nbformat": 4,
  "nbformat_minor": 0,
  "metadata": {
    "colab": {
      "provenance": []
    },
    "kernelspec": {
      "name": "python3",
      "display_name": "Python 3"
    },
    "language_info": {
      "name": "python"
    }
  },
  "cells": [
    {
      "cell_type": "markdown",
      "source": [
        "## Ejericicio\n",
        "\n",
        "Se tienen $2$ urnas, cada una de las cuales contiene $10$ bolas numeradas del $1$ al $10$.\n",
        "\n",
        "Un experimento aleatorio consiste en seleccionar al azar una bola de cada urna.\n",
        "\n",
        "Sea $X$ la variable aleatoria que representa la diferencia de los números de las dos bolas seleccionadas.\n",
        "\n",
        "* Define $\\Omega$\n",
        "* Calcula las probabilidades asociadas\n",
        "* Define la función de densidad\n",
        "* Verifica que $\\sum_{x\\in R_X}f_X(x) = 1$\n",
        "* Gráfica la función de densidad\n",
        "\n",
        "Además, calcula la probabilidad de que los números de las dos bolas seleccionadas difieran por $2$ o más."
      ],
      "metadata": {
        "id": "d2bzlDTvGSHY"
      }
    },
    {
      "cell_type": "code",
      "execution_count": null,
      "metadata": {
        "id": "UUvhs_kUGPKB"
      },
      "outputs": [],
      "source": [
        "# Creacion del espacio muestral\n",
        "import itertools #importamos el modulo\n",
        "from itertools import product"
      ]
    },
    {
      "cell_type": "code",
      "source": [
        "Omega = set(product(range(1,11), repeat = 2))\n",
        "Omega"
      ],
      "metadata": {
        "colab": {
          "base_uri": "https://localhost:8080/"
        },
        "id": "3l48v8y1Gpg3",
        "outputId": "b2a282fd-0649-4e07-a369-a9f2d073b1fb"
      },
      "execution_count": null,
      "outputs": [
        {
          "output_type": "execute_result",
          "data": {
            "text/plain": [
              "{(1, 1),\n",
              " (1, 2),\n",
              " (1, 3),\n",
              " (1, 4),\n",
              " (1, 5),\n",
              " (1, 6),\n",
              " (1, 7),\n",
              " (1, 8),\n",
              " (1, 9),\n",
              " (1, 10),\n",
              " (2, 1),\n",
              " (2, 2),\n",
              " (2, 3),\n",
              " (2, 4),\n",
              " (2, 5),\n",
              " (2, 6),\n",
              " (2, 7),\n",
              " (2, 8),\n",
              " (2, 9),\n",
              " (2, 10),\n",
              " (3, 1),\n",
              " (3, 2),\n",
              " (3, 3),\n",
              " (3, 4),\n",
              " (3, 5),\n",
              " (3, 6),\n",
              " (3, 7),\n",
              " (3, 8),\n",
              " (3, 9),\n",
              " (3, 10),\n",
              " (4, 1),\n",
              " (4, 2),\n",
              " (4, 3),\n",
              " (4, 4),\n",
              " (4, 5),\n",
              " (4, 6),\n",
              " (4, 7),\n",
              " (4, 8),\n",
              " (4, 9),\n",
              " (4, 10),\n",
              " (5, 1),\n",
              " (5, 2),\n",
              " (5, 3),\n",
              " (5, 4),\n",
              " (5, 5),\n",
              " (5, 6),\n",
              " (5, 7),\n",
              " (5, 8),\n",
              " (5, 9),\n",
              " (5, 10),\n",
              " (6, 1),\n",
              " (6, 2),\n",
              " (6, 3),\n",
              " (6, 4),\n",
              " (6, 5),\n",
              " (6, 6),\n",
              " (6, 7),\n",
              " (6, 8),\n",
              " (6, 9),\n",
              " (6, 10),\n",
              " (7, 1),\n",
              " (7, 2),\n",
              " (7, 3),\n",
              " (7, 4),\n",
              " (7, 5),\n",
              " (7, 6),\n",
              " (7, 7),\n",
              " (7, 8),\n",
              " (7, 9),\n",
              " (7, 10),\n",
              " (8, 1),\n",
              " (8, 2),\n",
              " (8, 3),\n",
              " (8, 4),\n",
              " (8, 5),\n",
              " (8, 6),\n",
              " (8, 7),\n",
              " (8, 8),\n",
              " (8, 9),\n",
              " (8, 10),\n",
              " (9, 1),\n",
              " (9, 2),\n",
              " (9, 3),\n",
              " (9, 4),\n",
              " (9, 5),\n",
              " (9, 6),\n",
              " (9, 7),\n",
              " (9, 8),\n",
              " (9, 9),\n",
              " (9, 10),\n",
              " (10, 1),\n",
              " (10, 2),\n",
              " (10, 3),\n",
              " (10, 4),\n",
              " (10, 5),\n",
              " (10, 6),\n",
              " (10, 7),\n",
              " (10, 8),\n",
              " (10, 9),\n",
              " (10, 10)}"
            ]
          },
          "metadata": {},
          "execution_count": 16
        }
      ]
    },
    {
      "cell_type": "code",
      "source": [
        "len(Omega)"
      ],
      "metadata": {
        "colab": {
          "base_uri": "https://localhost:8080/"
        },
        "id": "y_63v1STLHpP",
        "outputId": "2dd006ff-4c98-43bd-ccfc-a99da173d6f9"
      },
      "execution_count": null,
      "outputs": [
        {
          "output_type": "execute_result",
          "data": {
            "text/plain": [
              "100"
            ]
          },
          "metadata": {},
          "execution_count": 17
        }
      ]
    },
    {
      "cell_type": "code",
      "source": [
        "def D(n):\n",
        "  Dn ={ (i,j) for i in range(1,11) for j in range(1,11) if abs(i-j) == n}\n",
        "  return Dn"
      ],
      "metadata": {
        "id": "7ZSgyvN0HNPk"
      },
      "execution_count": null,
      "outputs": []
    },
    {
      "cell_type": "code",
      "source": [
        "print(D(7))"
      ],
      "metadata": {
        "colab": {
          "base_uri": "https://localhost:8080/"
        },
        "id": "hYtqnIErHzQo",
        "outputId": "791370f2-49ac-4b92-b636-6c9cdd88463f"
      },
      "execution_count": null,
      "outputs": [
        {
          "output_type": "stream",
          "name": "stdout",
          "text": [
            "{(8, 1), (1, 8), (9, 2), (3, 10), (2, 9), (10, 3)}\n"
          ]
        }
      ]
    },
    {
      "cell_type": "code",
      "source": [
        "from fractions import Fraction"
      ],
      "metadata": {
        "id": "P5kUT9XlHzNa"
      },
      "execution_count": null,
      "outputs": []
    },
    {
      "cell_type": "code",
      "source": [
        "# Definimos la funcion P(A), probabilidad del evento A\n",
        "\n",
        "def P(A):\n",
        "  P = Fraction(len(A), len(Omega))\n",
        "  return P"
      ],
      "metadata": {
        "id": "001ZhKEjI6RA"
      },
      "execution_count": null,
      "outputs": []
    },
    {
      "cell_type": "code",
      "source": [
        "# Definimos el diccionario D\n",
        "# (i,j) pares ordenados y los valores de su diferencia\n",
        "\n",
        "D = {(i,j) : abs(i-j) for i,j in Omega}"
      ],
      "metadata": {
        "id": "OZTF_1UcJIMW"
      },
      "execution_count": null,
      "outputs": []
    },
    {
      "cell_type": "code",
      "source": [
        "from collections import defaultdict"
      ],
      "metadata": {
        "id": "finM_JkJJcWt"
      },
      "execution_count": null,
      "outputs": []
    },
    {
      "cell_type": "code",
      "source": [
        "# Agupamos las combinaciones por diferencia\n",
        "\n",
        "dD = defaultdict(set)"
      ],
      "metadata": {
        "id": "4CdQd0BuJipc"
      },
      "execution_count": null,
      "outputs": []
    },
    {
      "cell_type": "code",
      "source": [
        "for i,j in D.items():\n",
        "  dD[j].add(i)"
      ],
      "metadata": {
        "id": "Gua1k5zqJvDR"
      },
      "execution_count": null,
      "outputs": []
    },
    {
      "cell_type": "code",
      "source": [
        "list(dD.items())"
      ],
      "metadata": {
        "colab": {
          "base_uri": "https://localhost:8080/"
        },
        "id": "mdgvBNo0J1hI",
        "outputId": "1b26766c-5a37-4a4c-dfac-f9f196e9ab8c"
      },
      "execution_count": null,
      "outputs": [
        {
          "output_type": "execute_result",
          "data": {
            "text/plain": [
              "[(5,\n",
              "  {(1, 6),\n",
              "   (2, 7),\n",
              "   (3, 8),\n",
              "   (4, 9),\n",
              "   (5, 10),\n",
              "   (6, 1),\n",
              "   (7, 2),\n",
              "   (8, 3),\n",
              "   (9, 4),\n",
              "   (10, 5)}),\n",
              " (4,\n",
              "  {(1, 5),\n",
              "   (2, 6),\n",
              "   (3, 7),\n",
              "   (4, 8),\n",
              "   (5, 1),\n",
              "   (5, 9),\n",
              "   (6, 2),\n",
              "   (6, 10),\n",
              "   (7, 3),\n",
              "   (8, 4),\n",
              "   (9, 5),\n",
              "   (10, 6)}),\n",
              " (1,\n",
              "  {(1, 2),\n",
              "   (2, 1),\n",
              "   (2, 3),\n",
              "   (3, 2),\n",
              "   (3, 4),\n",
              "   (4, 3),\n",
              "   (4, 5),\n",
              "   (5, 4),\n",
              "   (5, 6),\n",
              "   (6, 5),\n",
              "   (6, 7),\n",
              "   (7, 6),\n",
              "   (7, 8),\n",
              "   (8, 7),\n",
              "   (8, 9),\n",
              "   (9, 8),\n",
              "   (9, 10),\n",
              "   (10, 9)}),\n",
              " (0,\n",
              "  {(1, 1),\n",
              "   (2, 2),\n",
              "   (3, 3),\n",
              "   (4, 4),\n",
              "   (5, 5),\n",
              "   (6, 6),\n",
              "   (7, 7),\n",
              "   (8, 8),\n",
              "   (9, 9),\n",
              "   (10, 10)}),\n",
              " (6, {(1, 7), (2, 8), (3, 9), (4, 10), (7, 1), (8, 2), (9, 3), (10, 4)}),\n",
              " (3,\n",
              "  {(1, 4),\n",
              "   (2, 5),\n",
              "   (3, 6),\n",
              "   (4, 1),\n",
              "   (4, 7),\n",
              "   (5, 2),\n",
              "   (5, 8),\n",
              "   (6, 3),\n",
              "   (6, 9),\n",
              "   (7, 4),\n",
              "   (7, 10),\n",
              "   (8, 5),\n",
              "   (9, 6),\n",
              "   (10, 7)}),\n",
              " (2,\n",
              "  {(1, 3),\n",
              "   (2, 4),\n",
              "   (3, 1),\n",
              "   (3, 5),\n",
              "   (4, 2),\n",
              "   (4, 6),\n",
              "   (5, 3),\n",
              "   (5, 7),\n",
              "   (6, 4),\n",
              "   (6, 8),\n",
              "   (7, 5),\n",
              "   (7, 9),\n",
              "   (8, 6),\n",
              "   (8, 10),\n",
              "   (9, 7),\n",
              "   (10, 8)}),\n",
              " (8, {(1, 9), (2, 10), (9, 1), (10, 2)}),\n",
              " (7, {(1, 8), (2, 9), (3, 10), (8, 1), (9, 2), (10, 3)}),\n",
              " (9, {(1, 10), (10, 1)})]"
            ]
          },
          "metadata": {},
          "execution_count": 14
        }
      ]
    },
    {
      "cell_type": "code",
      "source": [
        "# Funcion de densidad\n",
        "\n",
        "leyD = {i : P(A) for i, A in dD.items()}\n",
        "leyD"
      ],
      "metadata": {
        "colab": {
          "base_uri": "https://localhost:8080/"
        },
        "id": "gPMqA3CwK2tc",
        "outputId": "2994f176-7526-4c97-9971-7f52d0b9aaf1"
      },
      "execution_count": null,
      "outputs": [
        {
          "output_type": "execute_result",
          "data": {
            "text/plain": [
              "{5: Fraction(1, 10),\n",
              " 4: Fraction(3, 25),\n",
              " 1: Fraction(9, 50),\n",
              " 0: Fraction(1, 10),\n",
              " 6: Fraction(2, 25),\n",
              " 3: Fraction(7, 50),\n",
              " 2: Fraction(4, 25),\n",
              " 8: Fraction(1, 25),\n",
              " 7: Fraction(3, 50),\n",
              " 9: Fraction(1, 50)}"
            ]
          },
          "metadata": {},
          "execution_count": 15
        }
      ]
    },
    {
      "cell_type": "code",
      "source": [
        "import pandas as pd\n",
        "import numpy as np"
      ],
      "metadata": {
        "id": "Qj5HNI8yLVba"
      },
      "execution_count": null,
      "outputs": []
    },
    {
      "cell_type": "code",
      "source": [
        "# Creamos una serie\n",
        "ley_D = pd.Series(leyD)\n",
        "ley_D.sort_index() #Ordenar"
      ],
      "metadata": {
        "colab": {
          "base_uri": "https://localhost:8080/",
          "height": 397
        },
        "id": "HKuby5WxLYoK",
        "outputId": "5d6a407c-742f-49b7-d1b8-ba0ed341b92d"
      },
      "execution_count": null,
      "outputs": [
        {
          "output_type": "execute_result",
          "data": {
            "text/plain": [
              "0    1/10\n",
              "1    9/50\n",
              "2    4/25\n",
              "3    7/50\n",
              "4    3/25\n",
              "5    1/10\n",
              "6    2/25\n",
              "7    3/50\n",
              "8    1/25\n",
              "9    1/50\n",
              "dtype: object"
            ],
            "text/html": [
              "<div>\n",
              "<style scoped>\n",
              "    .dataframe tbody tr th:only-of-type {\n",
              "        vertical-align: middle;\n",
              "    }\n",
              "\n",
              "    .dataframe tbody tr th {\n",
              "        vertical-align: top;\n",
              "    }\n",
              "\n",
              "    .dataframe thead th {\n",
              "        text-align: right;\n",
              "    }\n",
              "</style>\n",
              "<table border=\"1\" class=\"dataframe\">\n",
              "  <thead>\n",
              "    <tr style=\"text-align: right;\">\n",
              "      <th></th>\n",
              "      <th>0</th>\n",
              "    </tr>\n",
              "  </thead>\n",
              "  <tbody>\n",
              "    <tr>\n",
              "      <th>0</th>\n",
              "      <td>1/10</td>\n",
              "    </tr>\n",
              "    <tr>\n",
              "      <th>1</th>\n",
              "      <td>9/50</td>\n",
              "    </tr>\n",
              "    <tr>\n",
              "      <th>2</th>\n",
              "      <td>4/25</td>\n",
              "    </tr>\n",
              "    <tr>\n",
              "      <th>3</th>\n",
              "      <td>7/50</td>\n",
              "    </tr>\n",
              "    <tr>\n",
              "      <th>4</th>\n",
              "      <td>3/25</td>\n",
              "    </tr>\n",
              "    <tr>\n",
              "      <th>5</th>\n",
              "      <td>1/10</td>\n",
              "    </tr>\n",
              "    <tr>\n",
              "      <th>6</th>\n",
              "      <td>2/25</td>\n",
              "    </tr>\n",
              "    <tr>\n",
              "      <th>7</th>\n",
              "      <td>3/50</td>\n",
              "    </tr>\n",
              "    <tr>\n",
              "      <th>8</th>\n",
              "      <td>1/25</td>\n",
              "    </tr>\n",
              "    <tr>\n",
              "      <th>9</th>\n",
              "      <td>1/50</td>\n",
              "    </tr>\n",
              "  </tbody>\n",
              "</table>\n",
              "</div><br><label><b>dtype:</b> object</label>"
            ]
          },
          "metadata": {},
          "execution_count": 21
        }
      ]
    },
    {
      "cell_type": "code",
      "source": [
        "# Funcion de densidad\n",
        "\n",
        "def leyD(i):\n",
        "  if i in range(0,10):\n",
        "    x = ley_D[i]\n",
        "  else:\n",
        "    x = 0\n",
        "  return x"
      ],
      "metadata": {
        "id": "2Sx2CzWVMADb"
      },
      "execution_count": null,
      "outputs": []
    },
    {
      "cell_type": "code",
      "source": [
        "# Rango de D\n",
        "\n",
        "rango_D = [k for k in range(0,10)]"
      ],
      "metadata": {
        "id": "MBTGXm-yMg99"
      },
      "execution_count": null,
      "outputs": []
    },
    {
      "cell_type": "code",
      "source": [
        "# Obtenemos la probabilidad de cada diferencia\n",
        "p_k = [float(leyD(k)) for k in rango_D]"
      ],
      "metadata": {
        "id": "GzA-sws0Muu0"
      },
      "execution_count": null,
      "outputs": []
    },
    {
      "cell_type": "code",
      "source": [
        "lD = pd.DataFrame(list(zip(rango_D, p_k)), index=[f\"D_{i}\" for i in rango_D], columns=[\"rango\", \"densidad\"])\n",
        "lD"
      ],
      "metadata": {
        "colab": {
          "base_uri": "https://localhost:8080/",
          "height": 363
        },
        "id": "UmHSMORsM6Gn",
        "outputId": "66c1f00b-95c7-4c4b-d86f-de2c89b5dc24"
      },
      "execution_count": null,
      "outputs": [
        {
          "output_type": "execute_result",
          "data": {
            "text/plain": [
              "     rango  densidad\n",
              "D_0      0      0.10\n",
              "D_1      1      0.18\n",
              "D_2      2      0.16\n",
              "D_3      3      0.14\n",
              "D_4      4      0.12\n",
              "D_5      5      0.10\n",
              "D_6      6      0.08\n",
              "D_7      7      0.06\n",
              "D_8      8      0.04\n",
              "D_9      9      0.02"
            ],
            "text/html": [
              "\n",
              "  <div id=\"df-a85de13e-1519-4d49-8baa-71582f22de04\" class=\"colab-df-container\">\n",
              "    <div>\n",
              "<style scoped>\n",
              "    .dataframe tbody tr th:only-of-type {\n",
              "        vertical-align: middle;\n",
              "    }\n",
              "\n",
              "    .dataframe tbody tr th {\n",
              "        vertical-align: top;\n",
              "    }\n",
              "\n",
              "    .dataframe thead th {\n",
              "        text-align: right;\n",
              "    }\n",
              "</style>\n",
              "<table border=\"1\" class=\"dataframe\">\n",
              "  <thead>\n",
              "    <tr style=\"text-align: right;\">\n",
              "      <th></th>\n",
              "      <th>rango</th>\n",
              "      <th>densidad</th>\n",
              "    </tr>\n",
              "  </thead>\n",
              "  <tbody>\n",
              "    <tr>\n",
              "      <th>D_0</th>\n",
              "      <td>0</td>\n",
              "      <td>0.10</td>\n",
              "    </tr>\n",
              "    <tr>\n",
              "      <th>D_1</th>\n",
              "      <td>1</td>\n",
              "      <td>0.18</td>\n",
              "    </tr>\n",
              "    <tr>\n",
              "      <th>D_2</th>\n",
              "      <td>2</td>\n",
              "      <td>0.16</td>\n",
              "    </tr>\n",
              "    <tr>\n",
              "      <th>D_3</th>\n",
              "      <td>3</td>\n",
              "      <td>0.14</td>\n",
              "    </tr>\n",
              "    <tr>\n",
              "      <th>D_4</th>\n",
              "      <td>4</td>\n",
              "      <td>0.12</td>\n",
              "    </tr>\n",
              "    <tr>\n",
              "      <th>D_5</th>\n",
              "      <td>5</td>\n",
              "      <td>0.10</td>\n",
              "    </tr>\n",
              "    <tr>\n",
              "      <th>D_6</th>\n",
              "      <td>6</td>\n",
              "      <td>0.08</td>\n",
              "    </tr>\n",
              "    <tr>\n",
              "      <th>D_7</th>\n",
              "      <td>7</td>\n",
              "      <td>0.06</td>\n",
              "    </tr>\n",
              "    <tr>\n",
              "      <th>D_8</th>\n",
              "      <td>8</td>\n",
              "      <td>0.04</td>\n",
              "    </tr>\n",
              "    <tr>\n",
              "      <th>D_9</th>\n",
              "      <td>9</td>\n",
              "      <td>0.02</td>\n",
              "    </tr>\n",
              "  </tbody>\n",
              "</table>\n",
              "</div>\n",
              "    <div class=\"colab-df-buttons\">\n",
              "\n",
              "  <div class=\"colab-df-container\">\n",
              "    <button class=\"colab-df-convert\" onclick=\"convertToInteractive('df-a85de13e-1519-4d49-8baa-71582f22de04')\"\n",
              "            title=\"Convert this dataframe to an interactive table.\"\n",
              "            style=\"display:none;\">\n",
              "\n",
              "  <svg xmlns=\"http://www.w3.org/2000/svg\" height=\"24px\" viewBox=\"0 -960 960 960\">\n",
              "    <path d=\"M120-120v-720h720v720H120Zm60-500h600v-160H180v160Zm220 220h160v-160H400v160Zm0 220h160v-160H400v160ZM180-400h160v-160H180v160Zm440 0h160v-160H620v160ZM180-180h160v-160H180v160Zm440 0h160v-160H620v160Z\"/>\n",
              "  </svg>\n",
              "    </button>\n",
              "\n",
              "  <style>\n",
              "    .colab-df-container {\n",
              "      display:flex;\n",
              "      gap: 12px;\n",
              "    }\n",
              "\n",
              "    .colab-df-convert {\n",
              "      background-color: #E8F0FE;\n",
              "      border: none;\n",
              "      border-radius: 50%;\n",
              "      cursor: pointer;\n",
              "      display: none;\n",
              "      fill: #1967D2;\n",
              "      height: 32px;\n",
              "      padding: 0 0 0 0;\n",
              "      width: 32px;\n",
              "    }\n",
              "\n",
              "    .colab-df-convert:hover {\n",
              "      background-color: #E2EBFA;\n",
              "      box-shadow: 0px 1px 2px rgba(60, 64, 67, 0.3), 0px 1px 3px 1px rgba(60, 64, 67, 0.15);\n",
              "      fill: #174EA6;\n",
              "    }\n",
              "\n",
              "    .colab-df-buttons div {\n",
              "      margin-bottom: 4px;\n",
              "    }\n",
              "\n",
              "    [theme=dark] .colab-df-convert {\n",
              "      background-color: #3B4455;\n",
              "      fill: #D2E3FC;\n",
              "    }\n",
              "\n",
              "    [theme=dark] .colab-df-convert:hover {\n",
              "      background-color: #434B5C;\n",
              "      box-shadow: 0px 1px 3px 1px rgba(0, 0, 0, 0.15);\n",
              "      filter: drop-shadow(0px 1px 2px rgba(0, 0, 0, 0.3));\n",
              "      fill: #FFFFFF;\n",
              "    }\n",
              "  </style>\n",
              "\n",
              "    <script>\n",
              "      const buttonEl =\n",
              "        document.querySelector('#df-a85de13e-1519-4d49-8baa-71582f22de04 button.colab-df-convert');\n",
              "      buttonEl.style.display =\n",
              "        google.colab.kernel.accessAllowed ? 'block' : 'none';\n",
              "\n",
              "      async function convertToInteractive(key) {\n",
              "        const element = document.querySelector('#df-a85de13e-1519-4d49-8baa-71582f22de04');\n",
              "        const dataTable =\n",
              "          await google.colab.kernel.invokeFunction('convertToInteractive',\n",
              "                                                    [key], {});\n",
              "        if (!dataTable) return;\n",
              "\n",
              "        const docLinkHtml = 'Like what you see? Visit the ' +\n",
              "          '<a target=\"_blank\" href=https://colab.research.google.com/notebooks/data_table.ipynb>data table notebook</a>'\n",
              "          + ' to learn more about interactive tables.';\n",
              "        element.innerHTML = '';\n",
              "        dataTable['output_type'] = 'display_data';\n",
              "        await google.colab.output.renderOutput(dataTable, element);\n",
              "        const docLink = document.createElement('div');\n",
              "        docLink.innerHTML = docLinkHtml;\n",
              "        element.appendChild(docLink);\n",
              "      }\n",
              "    </script>\n",
              "  </div>\n",
              "\n",
              "\n",
              "<div id=\"df-b1083043-b2de-489a-9651-d6145fc8ee4c\">\n",
              "  <button class=\"colab-df-quickchart\" onclick=\"quickchart('df-b1083043-b2de-489a-9651-d6145fc8ee4c')\"\n",
              "            title=\"Suggest charts\"\n",
              "            style=\"display:none;\">\n",
              "\n",
              "<svg xmlns=\"http://www.w3.org/2000/svg\" height=\"24px\"viewBox=\"0 0 24 24\"\n",
              "     width=\"24px\">\n",
              "    <g>\n",
              "        <path d=\"M19 3H5c-1.1 0-2 .9-2 2v14c0 1.1.9 2 2 2h14c1.1 0 2-.9 2-2V5c0-1.1-.9-2-2-2zM9 17H7v-7h2v7zm4 0h-2V7h2v10zm4 0h-2v-4h2v4z\"/>\n",
              "    </g>\n",
              "</svg>\n",
              "  </button>\n",
              "\n",
              "<style>\n",
              "  .colab-df-quickchart {\n",
              "      --bg-color: #E8F0FE;\n",
              "      --fill-color: #1967D2;\n",
              "      --hover-bg-color: #E2EBFA;\n",
              "      --hover-fill-color: #174EA6;\n",
              "      --disabled-fill-color: #AAA;\n",
              "      --disabled-bg-color: #DDD;\n",
              "  }\n",
              "\n",
              "  [theme=dark] .colab-df-quickchart {\n",
              "      --bg-color: #3B4455;\n",
              "      --fill-color: #D2E3FC;\n",
              "      --hover-bg-color: #434B5C;\n",
              "      --hover-fill-color: #FFFFFF;\n",
              "      --disabled-bg-color: #3B4455;\n",
              "      --disabled-fill-color: #666;\n",
              "  }\n",
              "\n",
              "  .colab-df-quickchart {\n",
              "    background-color: var(--bg-color);\n",
              "    border: none;\n",
              "    border-radius: 50%;\n",
              "    cursor: pointer;\n",
              "    display: none;\n",
              "    fill: var(--fill-color);\n",
              "    height: 32px;\n",
              "    padding: 0;\n",
              "    width: 32px;\n",
              "  }\n",
              "\n",
              "  .colab-df-quickchart:hover {\n",
              "    background-color: var(--hover-bg-color);\n",
              "    box-shadow: 0 1px 2px rgba(60, 64, 67, 0.3), 0 1px 3px 1px rgba(60, 64, 67, 0.15);\n",
              "    fill: var(--button-hover-fill-color);\n",
              "  }\n",
              "\n",
              "  .colab-df-quickchart-complete:disabled,\n",
              "  .colab-df-quickchart-complete:disabled:hover {\n",
              "    background-color: var(--disabled-bg-color);\n",
              "    fill: var(--disabled-fill-color);\n",
              "    box-shadow: none;\n",
              "  }\n",
              "\n",
              "  .colab-df-spinner {\n",
              "    border: 2px solid var(--fill-color);\n",
              "    border-color: transparent;\n",
              "    border-bottom-color: var(--fill-color);\n",
              "    animation:\n",
              "      spin 1s steps(1) infinite;\n",
              "  }\n",
              "\n",
              "  @keyframes spin {\n",
              "    0% {\n",
              "      border-color: transparent;\n",
              "      border-bottom-color: var(--fill-color);\n",
              "      border-left-color: var(--fill-color);\n",
              "    }\n",
              "    20% {\n",
              "      border-color: transparent;\n",
              "      border-left-color: var(--fill-color);\n",
              "      border-top-color: var(--fill-color);\n",
              "    }\n",
              "    30% {\n",
              "      border-color: transparent;\n",
              "      border-left-color: var(--fill-color);\n",
              "      border-top-color: var(--fill-color);\n",
              "      border-right-color: var(--fill-color);\n",
              "    }\n",
              "    40% {\n",
              "      border-color: transparent;\n",
              "      border-right-color: var(--fill-color);\n",
              "      border-top-color: var(--fill-color);\n",
              "    }\n",
              "    60% {\n",
              "      border-color: transparent;\n",
              "      border-right-color: var(--fill-color);\n",
              "    }\n",
              "    80% {\n",
              "      border-color: transparent;\n",
              "      border-right-color: var(--fill-color);\n",
              "      border-bottom-color: var(--fill-color);\n",
              "    }\n",
              "    90% {\n",
              "      border-color: transparent;\n",
              "      border-bottom-color: var(--fill-color);\n",
              "    }\n",
              "  }\n",
              "</style>\n",
              "\n",
              "  <script>\n",
              "    async function quickchart(key) {\n",
              "      const quickchartButtonEl =\n",
              "        document.querySelector('#' + key + ' button');\n",
              "      quickchartButtonEl.disabled = true;  // To prevent multiple clicks.\n",
              "      quickchartButtonEl.classList.add('colab-df-spinner');\n",
              "      try {\n",
              "        const charts = await google.colab.kernel.invokeFunction(\n",
              "            'suggestCharts', [key], {});\n",
              "      } catch (error) {\n",
              "        console.error('Error during call to suggestCharts:', error);\n",
              "      }\n",
              "      quickchartButtonEl.classList.remove('colab-df-spinner');\n",
              "      quickchartButtonEl.classList.add('colab-df-quickchart-complete');\n",
              "    }\n",
              "    (() => {\n",
              "      let quickchartButtonEl =\n",
              "        document.querySelector('#df-b1083043-b2de-489a-9651-d6145fc8ee4c button');\n",
              "      quickchartButtonEl.style.display =\n",
              "        google.colab.kernel.accessAllowed ? 'block' : 'none';\n",
              "    })();\n",
              "  </script>\n",
              "</div>\n",
              "\n",
              "  <div id=\"id_b651b157-d9f6-4603-b2e8-f651b4a21a4c\">\n",
              "    <style>\n",
              "      .colab-df-generate {\n",
              "        background-color: #E8F0FE;\n",
              "        border: none;\n",
              "        border-radius: 50%;\n",
              "        cursor: pointer;\n",
              "        display: none;\n",
              "        fill: #1967D2;\n",
              "        height: 32px;\n",
              "        padding: 0 0 0 0;\n",
              "        width: 32px;\n",
              "      }\n",
              "\n",
              "      .colab-df-generate:hover {\n",
              "        background-color: #E2EBFA;\n",
              "        box-shadow: 0px 1px 2px rgba(60, 64, 67, 0.3), 0px 1px 3px 1px rgba(60, 64, 67, 0.15);\n",
              "        fill: #174EA6;\n",
              "      }\n",
              "\n",
              "      [theme=dark] .colab-df-generate {\n",
              "        background-color: #3B4455;\n",
              "        fill: #D2E3FC;\n",
              "      }\n",
              "\n",
              "      [theme=dark] .colab-df-generate:hover {\n",
              "        background-color: #434B5C;\n",
              "        box-shadow: 0px 1px 3px 1px rgba(0, 0, 0, 0.15);\n",
              "        filter: drop-shadow(0px 1px 2px rgba(0, 0, 0, 0.3));\n",
              "        fill: #FFFFFF;\n",
              "      }\n",
              "    </style>\n",
              "    <button class=\"colab-df-generate\" onclick=\"generateWithVariable('lD')\"\n",
              "            title=\"Generate code using this dataframe.\"\n",
              "            style=\"display:none;\">\n",
              "\n",
              "  <svg xmlns=\"http://www.w3.org/2000/svg\" height=\"24px\"viewBox=\"0 0 24 24\"\n",
              "       width=\"24px\">\n",
              "    <path d=\"M7,19H8.4L18.45,9,17,7.55,7,17.6ZM5,21V16.75L18.45,3.32a2,2,0,0,1,2.83,0l1.4,1.43a1.91,1.91,0,0,1,.58,1.4,1.91,1.91,0,0,1-.58,1.4L9.25,21ZM18.45,9,17,7.55Zm-12,3A5.31,5.31,0,0,0,4.9,8.1,5.31,5.31,0,0,0,1,6.5,5.31,5.31,0,0,0,4.9,4.9,5.31,5.31,0,0,0,6.5,1,5.31,5.31,0,0,0,8.1,4.9,5.31,5.31,0,0,0,12,6.5,5.46,5.46,0,0,0,6.5,12Z\"/>\n",
              "  </svg>\n",
              "    </button>\n",
              "    <script>\n",
              "      (() => {\n",
              "      const buttonEl =\n",
              "        document.querySelector('#id_b651b157-d9f6-4603-b2e8-f651b4a21a4c button.colab-df-generate');\n",
              "      buttonEl.style.display =\n",
              "        google.colab.kernel.accessAllowed ? 'block' : 'none';\n",
              "\n",
              "      buttonEl.onclick = () => {\n",
              "        google.colab.notebook.generateWithVariable('lD');\n",
              "      }\n",
              "      })();\n",
              "    </script>\n",
              "  </div>\n",
              "\n",
              "    </div>\n",
              "  </div>\n"
            ],
            "application/vnd.google.colaboratory.intrinsic+json": {
              "type": "dataframe",
              "variable_name": "lD",
              "summary": "{\n  \"name\": \"lD\",\n  \"rows\": 10,\n  \"fields\": [\n    {\n      \"column\": \"rango\",\n      \"properties\": {\n        \"dtype\": \"number\",\n        \"std\": 3,\n        \"min\": 0,\n        \"max\": 9,\n        \"num_unique_values\": 10,\n        \"samples\": [\n          8,\n          1,\n          5\n        ],\n        \"semantic_type\": \"\",\n        \"description\": \"\"\n      }\n    },\n    {\n      \"column\": \"densidad\",\n      \"properties\": {\n        \"dtype\": \"number\",\n        \"std\": 0.05163977794943222,\n        \"min\": 0.02,\n        \"max\": 0.18,\n        \"num_unique_values\": 9,\n        \"samples\": [\n          0.04,\n          0.18,\n          0.08\n        ],\n        \"semantic_type\": \"\",\n        \"description\": \"\"\n      }\n    }\n  ]\n}"
            }
          },
          "metadata": {},
          "execution_count": 31
        }
      ]
    },
    {
      "cell_type": "code",
      "source": [
        "lD.plot.bar(x=\"rango\", y=\"densidad\")"
      ],
      "metadata": {
        "colab": {
          "base_uri": "https://localhost:8080/",
          "height": 461
        },
        "id": "aquRcWP4Od0r",
        "outputId": "73a0885c-13f7-45ec-fada-b00c39898847"
      },
      "execution_count": null,
      "outputs": [
        {
          "output_type": "execute_result",
          "data": {
            "text/plain": [
              "<Axes: xlabel='rango'>"
            ]
          },
          "metadata": {},
          "execution_count": 32
        },
        {
          "output_type": "display_data",
          "data": {
            "text/plain": [
              "<Figure size 640x480 with 1 Axes>"
            ],
            "image/png": "[encoded data removed]"
          },
          "metadata": {}
        }
      ]
    },
    {
      "cell_type": "code",
      "source": [
        "# Espacio muestral de que los números de las dos bolas seleccionadas difieran por  2  o más.\n",
        "n_2 ={ (a,b) for a in range(1,11) for b in range(1,11) if abs(a-b) >= 2}\n",
        "n_2"
      ],
      "metadata": {
        "colab": {
          "base_uri": "https://localhost:8080/"
        },
        "id": "kV4jMZclQ_hX",
        "outputId": "a376d893-1bea-46b7-d7a5-d007c44b5f19"
      },
      "execution_count": null,
      "outputs": [
        {
          "output_type": "execute_result",
          "data": {
            "text/plain": [
              "{(1, 3),\n",
              " (1, 4),\n",
              " (1, 5),\n",
              " (1, 6),\n",
              " (1, 7),\n",
              " (1, 8),\n",
              " (1, 9),\n",
              " (1, 10),\n",
              " (2, 4),\n",
              " (2, 5),\n",
              " (2, 6),\n",
              " (2, 7),\n",
              " (2, 8),\n",
              " (2, 9),\n",
              " (2, 10),\n",
              " (3, 1),\n",
              " (3, 5),\n",
              " (3, 6),\n",
              " (3, 7),\n",
              " (3, 8),\n",
              " (3, 9),\n",
              " (3, 10),\n",
              " (4, 1),\n",
              " (4, 2),\n",
              " (4, 6),\n",
              " (4, 7),\n",
              " (4, 8),\n",
              " (4, 9),\n",
              " (4, 10),\n",
              " (5, 1),\n",
              " (5, 2),\n",
              " (5, 3),\n",
              " (5, 7),\n",
              " (5, 8),\n",
              " (5, 9),\n",
              " (5, 10),\n",
              " (6, 1),\n",
              " (6, 2),\n",
              " (6, 3),\n",
              " (6, 4),\n",
              " (6, 8),\n",
              " (6, 9),\n",
              " (6, 10),\n",
              " (7, 1),\n",
              " (7, 2),\n",
              " (7, 3),\n",
              " (7, 4),\n",
              " (7, 5),\n",
              " (7, 9),\n",
              " (7, 10),\n",
              " (8, 1),\n",
              " (8, 2),\n",
              " (8, 3),\n",
              " (8, 4),\n",
              " (8, 5),\n",
              " (8, 6),\n",
              " (8, 10),\n",
              " (9, 1),\n",
              " (9, 2),\n",
              " (9, 3),\n",
              " (9, 4),\n",
              " (9, 5),\n",
              " (9, 6),\n",
              " (9, 7),\n",
              " (10, 1),\n",
              " (10, 2),\n",
              " (10, 3),\n",
              " (10, 4),\n",
              " (10, 5),\n",
              " (10, 6),\n",
              " (10, 7),\n",
              " (10, 8)}"
            ]
          },
          "metadata": {},
          "execution_count": 40
        }
      ]
    },
    {
      "cell_type": "code",
      "source": [
        "# Probabilidad de que los números de las dos bolas seleccionadas difieran por  2  o más.\n",
        "float(P(n_2))"
      ],
      "metadata": {
        "colab": {
          "base_uri": "https://localhost:8080/"
        },
        "id": "-SKhV28sUkT7",
        "outputId": "627c6717-f0cb-48ef-c869-0e7d856cb273"
      },
      "execution_count": null,
      "outputs": [
        {
          "output_type": "execute_result",
          "data": {
            "text/plain": [
              "0.72"
            ]
          },
          "metadata": {},
          "execution_count": 38
        }
      ]
    },
    {
      "cell_type": "code",
      "source": [
        "#Otra forma\n",
        "ley_Do =  ley_D.sort_index()\n",
        "n_22 = sum(ley_Do[2:10])\n",
        "float(n_22)"
      ],
      "metadata": {
        "colab": {
          "base_uri": "https://localhost:8080/"
        },
        "id": "OdEH4fKjVYZX",
        "outputId": "97df3033-31af-4263-c7d9-8ef633e749e7"
      },
      "execution_count": null,
      "outputs": [
        {
          "output_type": "execute_result",
          "data": {
            "text/plain": [
              "0.72"
            ]
          },
          "metadata": {},
          "execution_count": 49
        }
      ]
    },
    {
      "cell_type": "code",
      "source": [
        "print(ley_Do[2:10])"
      ],
      "metadata": {
        "colab": {
          "base_uri": "https://localhost:8080/"
        },
        "id": "bVHRomtDXCdr",
        "outputId": "e17ca7a2-dda4-447c-98ac-6caaff0c942b"
      },
      "execution_count": null,
      "outputs": [
        {
          "output_type": "stream",
          "name": "stdout",
          "text": [
            "2    4/25\n",
            "3    7/50\n",
            "4    3/25\n",
            "5    1/10\n",
            "6    2/25\n",
            "7    3/50\n",
            "8    1/25\n",
            "9    1/50\n",
            "dtype: object\n"
          ]
        }
      ]
    }
  ]
}